{
 "cells": [
  {
   "cell_type": "markdown",
   "metadata": {},
   "source": [
    "# Reshaping of data and CSV exports"
   ]
  },
  {
   "cell_type": "code",
   "execution_count": 67,
   "metadata": {},
   "outputs": [],
   "source": [
    "import pandas as pd\n",
    "import numpy as np\n",
    "import missingno as msno"
   ]
  },
  {
   "cell_type": "code",
   "execution_count": 68,
   "metadata": {},
   "outputs": [],
   "source": [
    "# load the data\n",
    "data = pd.read_csv('../data/Train.csv')"
   ]
  },
  {
   "cell_type": "code",
   "execution_count": 69,
   "metadata": {},
   "outputs": [
    {
     "data": {
      "text/html": [
       "<div>\n",
       "<style scoped>\n",
       "    .dataframe tbody tr th:only-of-type {\n",
       "        vertical-align: middle;\n",
       "    }\n",
       "\n",
       "    .dataframe tbody tr th {\n",
       "        vertical-align: top;\n",
       "    }\n",
       "\n",
       "    .dataframe thead th {\n",
       "        text-align: right;\n",
       "    }\n",
       "</style>\n",
       "<table border=\"1\" class=\"dataframe\">\n",
       "  <thead>\n",
       "    <tr style=\"text-align: right;\">\n",
       "      <th></th>\n",
       "      <th>ID</th>\n",
       "      <th>location</th>\n",
       "      <th>temp</th>\n",
       "      <th>precip</th>\n",
       "      <th>rel_humidity</th>\n",
       "      <th>wind_dir</th>\n",
       "      <th>wind_spd</th>\n",
       "      <th>atmos_press</th>\n",
       "      <th>target</th>\n",
       "    </tr>\n",
       "  </thead>\n",
       "  <tbody>\n",
       "    <tr>\n",
       "      <th>0</th>\n",
       "      <td>ID_train_0</td>\n",
       "      <td>C</td>\n",
       "      <td>nan,nan,nan,nan,nan,nan,nan,nan,nan,nan,nan,na...</td>\n",
       "      <td>nan,nan,nan,nan,nan,nan,nan,nan,nan,nan,nan,na...</td>\n",
       "      <td>nan,nan,nan,nan,nan,nan,nan,nan,nan,nan,nan,na...</td>\n",
       "      <td>nan,nan,nan,nan,nan,nan,nan,nan,nan,nan,nan,na...</td>\n",
       "      <td>nan,nan,nan,nan,nan,nan,nan,nan,nan,nan,nan,na...</td>\n",
       "      <td>nan,nan,nan,nan,nan,nan,nan,nan,nan,nan,nan,na...</td>\n",
       "      <td>45.126304</td>\n",
       "    </tr>\n",
       "  </tbody>\n",
       "</table>\n",
       "</div>"
      ],
      "text/plain": [
       "           ID location                                               temp  \\\n",
       "0  ID_train_0        C  nan,nan,nan,nan,nan,nan,nan,nan,nan,nan,nan,na...   \n",
       "\n",
       "                                              precip  \\\n",
       "0  nan,nan,nan,nan,nan,nan,nan,nan,nan,nan,nan,na...   \n",
       "\n",
       "                                        rel_humidity  \\\n",
       "0  nan,nan,nan,nan,nan,nan,nan,nan,nan,nan,nan,na...   \n",
       "\n",
       "                                            wind_dir  \\\n",
       "0  nan,nan,nan,nan,nan,nan,nan,nan,nan,nan,nan,na...   \n",
       "\n",
       "                                            wind_spd  \\\n",
       "0  nan,nan,nan,nan,nan,nan,nan,nan,nan,nan,nan,na...   \n",
       "\n",
       "                                         atmos_press     target  \n",
       "0  nan,nan,nan,nan,nan,nan,nan,nan,nan,nan,nan,na...  45.126304  "
      ]
     },
     "execution_count": 69,
     "metadata": {},
     "output_type": "execute_result"
    }
   ],
   "source": [
    "data.head(1)"
   ]
  },
  {
   "cell_type": "code",
   "execution_count": 70,
   "metadata": {},
   "outputs": [],
   "source": [
    "# retyping strings to lists for pd.explode() to work\n",
    "for c in data.columns[2:-1]:\n",
    "    data[c] = data[c].apply(lambda x: [a for a in str(x).split(\",\")])"
   ]
  },
  {
   "cell_type": "code",
   "execution_count": 71,
   "metadata": {},
   "outputs": [
    {
     "data": {
      "text/html": [
       "<div>\n",
       "<style scoped>\n",
       "    .dataframe tbody tr th:only-of-type {\n",
       "        vertical-align: middle;\n",
       "    }\n",
       "\n",
       "    .dataframe tbody tr th {\n",
       "        vertical-align: top;\n",
       "    }\n",
       "\n",
       "    .dataframe thead th {\n",
       "        text-align: right;\n",
       "    }\n",
       "</style>\n",
       "<table border=\"1\" class=\"dataframe\">\n",
       "  <thead>\n",
       "    <tr style=\"text-align: right;\">\n",
       "      <th></th>\n",
       "      <th>ID</th>\n",
       "      <th>location</th>\n",
       "      <th>temp</th>\n",
       "      <th>precip</th>\n",
       "      <th>rel_humidity</th>\n",
       "      <th>wind_dir</th>\n",
       "      <th>wind_spd</th>\n",
       "      <th>atmos_press</th>\n",
       "      <th>target</th>\n",
       "    </tr>\n",
       "  </thead>\n",
       "  <tbody>\n",
       "    <tr>\n",
       "      <th>0</th>\n",
       "      <td>ID_train_0</td>\n",
       "      <td>C</td>\n",
       "      <td>[nan, nan, nan, nan, nan, nan, nan, nan, nan, ...</td>\n",
       "      <td>[nan, nan, nan, nan, nan, nan, nan, nan, nan, ...</td>\n",
       "      <td>[nan, nan, nan, nan, nan, nan, nan, nan, nan, ...</td>\n",
       "      <td>[nan, nan, nan, nan, nan, nan, nan, nan, nan, ...</td>\n",
       "      <td>[nan, nan, nan, nan, nan, nan, nan, nan, nan, ...</td>\n",
       "      <td>[nan, nan, nan, nan, nan, nan, nan, nan, nan, ...</td>\n",
       "      <td>45.126304</td>\n",
       "    </tr>\n",
       "  </tbody>\n",
       "</table>\n",
       "</div>"
      ],
      "text/plain": [
       "           ID location                                               temp  \\\n",
       "0  ID_train_0        C  [nan, nan, nan, nan, nan, nan, nan, nan, nan, ...   \n",
       "\n",
       "                                              precip  \\\n",
       "0  [nan, nan, nan, nan, nan, nan, nan, nan, nan, ...   \n",
       "\n",
       "                                        rel_humidity  \\\n",
       "0  [nan, nan, nan, nan, nan, nan, nan, nan, nan, ...   \n",
       "\n",
       "                                            wind_dir  \\\n",
       "0  [nan, nan, nan, nan, nan, nan, nan, nan, nan, ...   \n",
       "\n",
       "                                            wind_spd  \\\n",
       "0  [nan, nan, nan, nan, nan, nan, nan, nan, nan, ...   \n",
       "\n",
       "                                         atmos_press     target  \n",
       "0  [nan, nan, nan, nan, nan, nan, nan, nan, nan, ...  45.126304  "
      ]
     },
     "execution_count": 71,
     "metadata": {},
     "output_type": "execute_result"
    }
   ],
   "source": [
    "data.head(1)"
   ]
  },
  {
   "cell_type": "code",
   "execution_count": 72,
   "metadata": {},
   "outputs": [],
   "source": [
    "# generating hours column counting from 0 to 120 (5 days with first day having 25 measurements)\n",
    "hours = list(range(121))\n",
    "\n",
    "# inserting column before target column\n",
    "data.insert(len(data.columns)-1, 'hours', [hours] * data.shape[0])"
   ]
  },
  {
   "cell_type": "code",
   "execution_count": 73,
   "metadata": {},
   "outputs": [],
   "source": [
    "# generating days column counting from 1 to 5 (first day having 25 measurements)\n",
    "day = [1, 2, 3, 4, 5]\n",
    "rep = [25, 24, 24, 24, 24]\n",
    "days = np.repeat(day, rep)\n",
    "\n",
    "# inserting column before target column\n",
    "data.insert(len(data.columns)-1, 'day', [days] * data.shape[0])"
   ]
  },
  {
   "cell_type": "code",
   "execution_count": 74,
   "metadata": {},
   "outputs": [
    {
     "data": {
      "text/html": [
       "<div>\n",
       "<style scoped>\n",
       "    .dataframe tbody tr th:only-of-type {\n",
       "        vertical-align: middle;\n",
       "    }\n",
       "\n",
       "    .dataframe tbody tr th {\n",
       "        vertical-align: top;\n",
       "    }\n",
       "\n",
       "    .dataframe thead th {\n",
       "        text-align: right;\n",
       "    }\n",
       "</style>\n",
       "<table border=\"1\" class=\"dataframe\">\n",
       "  <thead>\n",
       "    <tr style=\"text-align: right;\">\n",
       "      <th></th>\n",
       "      <th>ID</th>\n",
       "      <th>location</th>\n",
       "      <th>temp</th>\n",
       "      <th>precip</th>\n",
       "      <th>rel_humidity</th>\n",
       "      <th>wind_dir</th>\n",
       "      <th>wind_spd</th>\n",
       "      <th>atmos_press</th>\n",
       "      <th>hours</th>\n",
       "      <th>day</th>\n",
       "      <th>target</th>\n",
       "    </tr>\n",
       "  </thead>\n",
       "  <tbody>\n",
       "    <tr>\n",
       "      <th>0</th>\n",
       "      <td>ID_train_0</td>\n",
       "      <td>C</td>\n",
       "      <td>[nan, nan, nan, nan, nan, nan, nan, nan, nan, ...</td>\n",
       "      <td>[nan, nan, nan, nan, nan, nan, nan, nan, nan, ...</td>\n",
       "      <td>[nan, nan, nan, nan, nan, nan, nan, nan, nan, ...</td>\n",
       "      <td>[nan, nan, nan, nan, nan, nan, nan, nan, nan, ...</td>\n",
       "      <td>[nan, nan, nan, nan, nan, nan, nan, nan, nan, ...</td>\n",
       "      <td>[nan, nan, nan, nan, nan, nan, nan, nan, nan, ...</td>\n",
       "      <td>[0, 1, 2, 3, 4, 5, 6, 7, 8, 9, 10, 11, 12, 13,...</td>\n",
       "      <td>[1, 1, 1, 1, 1, 1, 1, 1, 1, 1, 1, 1, 1, 1, 1, ...</td>\n",
       "      <td>45.126304</td>\n",
       "    </tr>\n",
       "  </tbody>\n",
       "</table>\n",
       "</div>"
      ],
      "text/plain": [
       "           ID location                                               temp  \\\n",
       "0  ID_train_0        C  [nan, nan, nan, nan, nan, nan, nan, nan, nan, ...   \n",
       "\n",
       "                                              precip  \\\n",
       "0  [nan, nan, nan, nan, nan, nan, nan, nan, nan, ...   \n",
       "\n",
       "                                        rel_humidity  \\\n",
       "0  [nan, nan, nan, nan, nan, nan, nan, nan, nan, ...   \n",
       "\n",
       "                                            wind_dir  \\\n",
       "0  [nan, nan, nan, nan, nan, nan, nan, nan, nan, ...   \n",
       "\n",
       "                                            wind_spd  \\\n",
       "0  [nan, nan, nan, nan, nan, nan, nan, nan, nan, ...   \n",
       "\n",
       "                                         atmos_press  \\\n",
       "0  [nan, nan, nan, nan, nan, nan, nan, nan, nan, ...   \n",
       "\n",
       "                                               hours  \\\n",
       "0  [0, 1, 2, 3, 4, 5, 6, 7, 8, 9, 10, 11, 12, 13,...   \n",
       "\n",
       "                                                 day     target  \n",
       "0  [1, 1, 1, 1, 1, 1, 1, 1, 1, 1, 1, 1, 1, 1, 1, ...  45.126304  "
      ]
     },
     "execution_count": 74,
     "metadata": {},
     "output_type": "execute_result"
    }
   ],
   "source": [
    "data.head(1)"
   ]
  },
  {
   "cell_type": "code",
   "execution_count": 75,
   "metadata": {},
   "outputs": [],
   "source": [
    "# Explode the dataframe to convert from pseudo-wide to long format\n",
    "data = data.explode(data.columns[2:-1].to_list())"
   ]
  },
  {
   "cell_type": "code",
   "execution_count": 76,
   "metadata": {},
   "outputs": [],
   "source": [
    "# retype all values from string (was necessary for split) to float\n",
    "for c in data.columns[2:]:\n",
    "    data[c] = data[c].apply(lambda x: float(x))"
   ]
  },
  {
   "cell_type": "code",
   "execution_count": 77,
   "metadata": {},
   "outputs": [
    {
     "name": "stdout",
     "output_type": "stream",
     "text": [
      "<class 'pandas.core.frame.DataFrame'>\n",
      "Int64Index: 1880219 entries, 0 to 15538\n",
      "Data columns (total 11 columns):\n",
      " #   Column        Dtype  \n",
      "---  ------        -----  \n",
      " 0   ID            object \n",
      " 1   location      object \n",
      " 2   temp          float64\n",
      " 3   precip        float64\n",
      " 4   rel_humidity  float64\n",
      " 5   wind_dir      float64\n",
      " 6   wind_spd      float64\n",
      " 7   atmos_press   float64\n",
      " 8   hours         float64\n",
      " 9   day           float64\n",
      " 10  target        float64\n",
      "dtypes: float64(9), object(2)\n",
      "memory usage: 172.1+ MB\n"
     ]
    }
   ],
   "source": [
    "data.info()"
   ]
  },
  {
   "cell_type": "code",
   "execution_count": 78,
   "metadata": {},
   "outputs": [],
   "source": [
    "# export the long dataframe as csv\n",
    "data.to_csv('../data/train_long.csv')"
   ]
  },
  {
   "cell_type": "code",
   "execution_count": 79,
   "metadata": {},
   "outputs": [],
   "source": [
    "# to further work with the data, replace all 'nan' strings with np.nan\n",
    "data = data.replace('nan', np.nan)"
   ]
  },
  {
   "cell_type": "code",
   "execution_count": 80,
   "metadata": {},
   "outputs": [
    {
     "data": {
      "text/plain": [
       "ID               0.00\n",
       "location         0.00\n",
       "temp             6.34\n",
       "precip           6.32\n",
       "rel_humidity     6.28\n",
       "wind_dir        10.37\n",
       "wind_spd        10.37\n",
       "atmos_press      6.10\n",
       "hours            0.00\n",
       "day              0.00\n",
       "target           0.00\n",
       "dtype: float64"
      ]
     },
     "execution_count": 80,
     "metadata": {},
     "output_type": "execute_result"
    }
   ],
   "source": [
    "# calculate how many observations have missing data (%)\n",
    "np.round(data.isna().sum()/data.shape[0] * 100, 2)"
   ]
  },
  {
   "cell_type": "code",
   "execution_count": 81,
   "metadata": {},
   "outputs": [
    {
     "data": {
      "image/png": "[encoded data removed]",
      "text/plain": [
       "<Figure size 2500x1000 with 2 Axes>"
      ]
     },
     "metadata": {},
     "output_type": "display_data"
    }
   ],
   "source": [
    "# check overlap of missing data\n",
    "msno.matrix(data, color=(0, 0, 0.33));"
   ]
  },
  {
   "cell_type": "code",
   "execution_count": 82,
   "metadata": {},
   "outputs": [
    {
     "data": {
      "text/html": [
       "<div>\n",
       "<style scoped>\n",
       "    .dataframe tbody tr th:only-of-type {\n",
       "        vertical-align: middle;\n",
       "    }\n",
       "\n",
       "    .dataframe tbody tr th {\n",
       "        vertical-align: top;\n",
       "    }\n",
       "\n",
       "    .dataframe thead th {\n",
       "        text-align: right;\n",
       "    }\n",
       "</style>\n",
       "<table border=\"1\" class=\"dataframe\">\n",
       "  <thead>\n",
       "    <tr style=\"text-align: right;\">\n",
       "      <th></th>\n",
       "      <th>ID</th>\n",
       "      <th>location</th>\n",
       "      <th>temp</th>\n",
       "      <th>precip</th>\n",
       "      <th>rel_humidity</th>\n",
       "      <th>wind_dir</th>\n",
       "      <th>wind_spd</th>\n",
       "      <th>atmos_press</th>\n",
       "      <th>hours</th>\n",
       "      <th>day</th>\n",
       "      <th>target</th>\n",
       "    </tr>\n",
       "  </thead>\n",
       "  <tbody>\n",
       "    <tr>\n",
       "      <th>15538</th>\n",
       "      <td>ID_train_9999</td>\n",
       "      <td>C</td>\n",
       "      <td>22.833333</td>\n",
       "      <td>0.0</td>\n",
       "      <td>0.803333</td>\n",
       "      <td>143.088013</td>\n",
       "      <td>0.436667</td>\n",
       "      <td>87.740833</td>\n",
       "      <td>111.0</td>\n",
       "      <td>5.0</td>\n",
       "      <td>127.983333</td>\n",
       "    </tr>\n",
       "    <tr>\n",
       "      <th>15538</th>\n",
       "      <td>ID_train_9999</td>\n",
       "      <td>C</td>\n",
       "      <td>22.691667</td>\n",
       "      <td>0.0</td>\n",
       "      <td>0.811667</td>\n",
       "      <td>133.426820</td>\n",
       "      <td>0.474167</td>\n",
       "      <td>87.725000</td>\n",
       "      <td>112.0</td>\n",
       "      <td>5.0</td>\n",
       "      <td>127.983333</td>\n",
       "    </tr>\n",
       "    <tr>\n",
       "      <th>15538</th>\n",
       "      <td>ID_train_9999</td>\n",
       "      <td>C</td>\n",
       "      <td>22.225000</td>\n",
       "      <td>0.0</td>\n",
       "      <td>0.840000</td>\n",
       "      <td>129.991897</td>\n",
       "      <td>0.490833</td>\n",
       "      <td>87.696667</td>\n",
       "      <td>113.0</td>\n",
       "      <td>5.0</td>\n",
       "      <td>127.983333</td>\n",
       "    </tr>\n",
       "    <tr>\n",
       "      <th>15538</th>\n",
       "      <td>ID_train_9999</td>\n",
       "      <td>C</td>\n",
       "      <td>21.841667</td>\n",
       "      <td>0.0</td>\n",
       "      <td>0.860833</td>\n",
       "      <td>130.078607</td>\n",
       "      <td>0.460000</td>\n",
       "      <td>87.673333</td>\n",
       "      <td>114.0</td>\n",
       "      <td>5.0</td>\n",
       "      <td>127.983333</td>\n",
       "    </tr>\n",
       "    <tr>\n",
       "      <th>15538</th>\n",
       "      <td>ID_train_9999</td>\n",
       "      <td>C</td>\n",
       "      <td>22.183333</td>\n",
       "      <td>0.0</td>\n",
       "      <td>0.864167</td>\n",
       "      <td>131.330002</td>\n",
       "      <td>0.461667</td>\n",
       "      <td>87.676667</td>\n",
       "      <td>115.0</td>\n",
       "      <td>5.0</td>\n",
       "      <td>127.983333</td>\n",
       "    </tr>\n",
       "    <tr>\n",
       "      <th>15538</th>\n",
       "      <td>ID_train_9999</td>\n",
       "      <td>C</td>\n",
       "      <td>20.716667</td>\n",
       "      <td>0.0</td>\n",
       "      <td>0.910000</td>\n",
       "      <td>336.823774</td>\n",
       "      <td>0.775833</td>\n",
       "      <td>87.722500</td>\n",
       "      <td>116.0</td>\n",
       "      <td>5.0</td>\n",
       "      <td>127.983333</td>\n",
       "    </tr>\n",
       "    <tr>\n",
       "      <th>15538</th>\n",
       "      <td>ID_train_9999</td>\n",
       "      <td>C</td>\n",
       "      <td>21.075000</td>\n",
       "      <td>0.0</td>\n",
       "      <td>0.871667</td>\n",
       "      <td>82.983274</td>\n",
       "      <td>0.325833</td>\n",
       "      <td>87.740833</td>\n",
       "      <td>117.0</td>\n",
       "      <td>5.0</td>\n",
       "      <td>127.983333</td>\n",
       "    </tr>\n",
       "    <tr>\n",
       "      <th>15538</th>\n",
       "      <td>ID_train_9999</td>\n",
       "      <td>C</td>\n",
       "      <td>21.541667</td>\n",
       "      <td>0.0</td>\n",
       "      <td>0.785833</td>\n",
       "      <td>17.870593</td>\n",
       "      <td>0.425000</td>\n",
       "      <td>87.768333</td>\n",
       "      <td>118.0</td>\n",
       "      <td>5.0</td>\n",
       "      <td>127.983333</td>\n",
       "    </tr>\n",
       "    <tr>\n",
       "      <th>15538</th>\n",
       "      <td>ID_train_9999</td>\n",
       "      <td>C</td>\n",
       "      <td>21.483333</td>\n",
       "      <td>0.0</td>\n",
       "      <td>0.736667</td>\n",
       "      <td>334.666143</td>\n",
       "      <td>0.701667</td>\n",
       "      <td>87.805833</td>\n",
       "      <td>119.0</td>\n",
       "      <td>5.0</td>\n",
       "      <td>127.983333</td>\n",
       "    </tr>\n",
       "    <tr>\n",
       "      <th>15538</th>\n",
       "      <td>ID_train_9999</td>\n",
       "      <td>C</td>\n",
       "      <td>22.091667</td>\n",
       "      <td>0.0</td>\n",
       "      <td>0.674167</td>\n",
       "      <td>329.229336</td>\n",
       "      <td>0.841667</td>\n",
       "      <td>87.855000</td>\n",
       "      <td>120.0</td>\n",
       "      <td>5.0</td>\n",
       "      <td>127.983333</td>\n",
       "    </tr>\n",
       "  </tbody>\n",
       "</table>\n",
       "</div>"
      ],
      "text/plain": [
       "                  ID location       temp  precip  rel_humidity    wind_dir  \\\n",
       "15538  ID_train_9999        C  22.833333     0.0      0.803333  143.088013   \n",
       "15538  ID_train_9999        C  22.691667     0.0      0.811667  133.426820   \n",
       "15538  ID_train_9999        C  22.225000     0.0      0.840000  129.991897   \n",
       "15538  ID_train_9999        C  21.841667     0.0      0.860833  130.078607   \n",
       "15538  ID_train_9999        C  22.183333     0.0      0.864167  131.330002   \n",
       "15538  ID_train_9999        C  20.716667     0.0      0.910000  336.823774   \n",
       "15538  ID_train_9999        C  21.075000     0.0      0.871667   82.983274   \n",
       "15538  ID_train_9999        C  21.541667     0.0      0.785833   17.870593   \n",
       "15538  ID_train_9999        C  21.483333     0.0      0.736667  334.666143   \n",
       "15538  ID_train_9999        C  22.091667     0.0      0.674167  329.229336   \n",
       "\n",
       "       wind_spd  atmos_press  hours  day      target  \n",
       "15538  0.436667    87.740833  111.0  5.0  127.983333  \n",
       "15538  0.474167    87.725000  112.0  5.0  127.983333  \n",
       "15538  0.490833    87.696667  113.0  5.0  127.983333  \n",
       "15538  0.460000    87.673333  114.0  5.0  127.983333  \n",
       "15538  0.461667    87.676667  115.0  5.0  127.983333  \n",
       "15538  0.775833    87.722500  116.0  5.0  127.983333  \n",
       "15538  0.325833    87.740833  117.0  5.0  127.983333  \n",
       "15538  0.425000    87.768333  118.0  5.0  127.983333  \n",
       "15538  0.701667    87.805833  119.0  5.0  127.983333  \n",
       "15538  0.841667    87.855000  120.0  5.0  127.983333  "
      ]
     },
     "execution_count": 82,
     "metadata": {},
     "output_type": "execute_result"
    }
   ],
   "source": [
    "data.tail(10)"
   ]
  },
  {
   "cell_type": "code",
   "execution_count": 83,
   "metadata": {},
   "outputs": [],
   "source": [
    "def aggregate(data, group: list, cid: tuple, func: str) -> pd.DataFrame:\n",
    "    \"\"\"Returns one of [mean, median, min, max] for dataframe grouped by 'group'.\n",
    "\n",
    "    Args:\n",
    "        data (pd.DataFrame): _description_\n",
    "        group (list): column names by which to group by\n",
    "        cid (list): boundary column indices (left, right)\n",
    "        func (str): accepts mean, median, min, max\n",
    "\n",
    "    Returns:\n",
    "        pd.DataFrame: \n",
    "    \"\"\"\n",
    "    if func == 'mean':\n",
    "        return data.groupby(group)[data.columns[cid[0]:cid[1]]].mean()\n",
    "    elif func == 'median':\n",
    "        return data.groupby(group)[data.columns[cid[0]:cid[1]]].median()\n",
    "    elif func == 'min':\n",
    "        return data.groupby(group)[data.columns[cid[0]:cid[1]]].min()\n",
    "    elif func == 'max':\n",
    "        return data.groupby(group)[data.columns[cid[0]:cid[1]]].max()"
   ]
  },
  {
   "cell_type": "code",
   "execution_count": 84,
   "metadata": {},
   "outputs": [],
   "source": [
    "# get different aggregates from the data and export as csv\n",
    "# for i in ['mean', 'median', 'min', 'max']:\n",
    "#     aggregate(data, ['ID', 'day'], (2, -3), i).to_csv(f'data/train_daily_{i}.csv', index=True)"
   ]
  }
 ],
 "metadata": {
  "kernelspec": {
   "display_name": "Python 3.9.8 ('.venv': venv)",
   "language": "python",
   "name": "python3"
  },
  "language_info": {
   "codemirror_mode": {
    "name": "ipython",
    "version": 3
   },
   "file_extension": ".py",
   "mimetype": "text/x-python",
   "name": "python",
   "nbconvert_exporter": "python",
   "pygments_lexer": "ipython3",
   "version": "3.9.8"
  },
  "orig_nbformat": 4,
  "vscode": {
   "interpreter": {
    "hash": "ca9b09bbfd254199bc645f5c79a6882d566302db735db839fd7d76ed8e17467a"
   }
  }
 },
 "nbformat": 4,
 "nbformat_minor": 2
}
