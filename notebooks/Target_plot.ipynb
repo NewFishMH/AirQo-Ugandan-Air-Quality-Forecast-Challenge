{
 "cells": [
  {
   "cell_type": "code",
   "execution_count": 1,
   "metadata": {},
   "outputs": [],
   "source": [
    "import pandas as pd\n",
    "import numpy as np\n",
    "\n",
    "import pickle\n",
    "\n",
    "import matplotlib.pyplot as plt\n",
    "import seaborn as sns\n"
   ]
  },
  {
   "cell_type": "code",
   "execution_count": 3,
   "metadata": {},
   "outputs": [],
   "source": [
    "# import the data\n",
    "df = pd.read_csv('../data/train_wide_with_hours.csv')"
   ]
  },
  {
   "cell_type": "code",
   "execution_count": 5,
   "metadata": {},
   "outputs": [],
   "source": [
    "#susettiung the data and location\n",
    "df = df[['location', 'target']]"
   ]
  },
  {
   "cell_type": "code",
   "execution_count": 57,
   "metadata": {},
   "outputs": [
    {
     "name": "stderr",
     "output_type": "stream",
     "text": [
      "C:\\Users\\Samer\\AppData\\Local\\Temp\\ipykernel_26616\\2020854795.py:1: SettingWithCopyWarning: \n",
      "A value is trying to be set on a copy of a slice from a DataFrame.\n",
      "Try using .loc[row_indexer,col_indexer] = value instead\n",
      "\n",
      "See the caveats in the documentation: https://pandas.pydata.org/pandas-docs/stable/user_guide/indexing.html#returning-a-view-versus-a-copy\n",
      "  df['Health concern'] = pd.cut(x=df['target'], bins=[0, 12, 35, 55, 150, 250, 475.82],\n"
     ]
    }
   ],
   "source": [
    "# create class column\n",
    "df['Health concern'] = pd.cut(x=df['target'], bins=[0, 12, 35, 55, 150, 250, 475.82],\n",
    "labels=['Good', 'Moderate', 'Unhealthy for\\nSensitive Groups','Unhealthy', 'Very Unhealthy', 'Hazardous'])"
   ]
  },
  {
   "cell_type": "code",
   "execution_count": 58,
   "metadata": {},
   "outputs": [
    {
     "data": {
      "image/png": "[encoded data removed]",
      "text/plain": [
       "<Figure size 640x480 with 1 Axes>"
      ]
     },
     "metadata": {},
     "output_type": "display_data"
    }
   ],
   "source": [
    "# countplot of the class\n",
    "fig = plt.figure()\n",
    "palette = ['limegreen', 'yellow', 'orange', 'firebrick', 'darkviolet', 'sienna']\n",
    "g = sns.countplot(data=df, x=\"Health concern\", palette=palette)\n",
    "g.set_xticklabels(g.get_xticklabels(), rotation = 60, ha='right');\n",
    "for p in g.patches:\n",
    "   g.annotate('{:.1f}'.format(p.get_height()), (p.get_x()+0.1, p.get_height()+10), color = 'white')\n",
    "g.spines['top'].set_color('white')\n",
    "g.spines['bottom'].set_color('white')\n",
    "g.spines['right'].set_color('white')\n",
    "g.spines['left'].set_color('white')\n",
    "g.xaxis.label.set_color('white')\n",
    "g.yaxis.label.set_color('white')\n",
    "g.tick_params(axis='x', colors='white')\n",
    "g.tick_params(axis='y', colors='white')\n",
    "fig.savefig('../data/Plots/target_plot.png', transparent=True, edgecolor='none', bbox_inches=\"tight\")\n",
    " "
   ]
  }
 ],
 "metadata": {
  "kernelspec": {
   "display_name": "Python 3.8.15 ('neuefische')",
   "language": "python",
   "name": "python3"
  },
  "language_info": {
   "codemirror_mode": {
    "name": "ipython",
    "version": 3
   },
   "file_extension": ".py",
   "mimetype": "text/x-python",
   "name": "python",
   "nbconvert_exporter": "python",
   "pygments_lexer": "ipython3",
   "version": "3.8.15"
  },
  "orig_nbformat": 4,
  "vscode": {
   "interpreter": {
    "hash": "5aaf06a40aeda0c0a5ac643876c14eab33c1bb75a40a93d02781fd84dd942514"
   }
  }
 },
 "nbformat": 4,
 "nbformat_minor": 2
}
